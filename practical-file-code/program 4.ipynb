{
 "cells": [
  {
   "cell_type": "markdown",
   "metadata": {},
   "source": [
    "### Implement synchronizing simulation time with wallclock time"
   ]
  },
  {
   "cell_type": "code",
   "execution_count": 1,
   "metadata": {},
   "outputs": [
    {
     "name": "stdout",
     "output_type": "stream",
     "text": [
      "Processing c:\\users\\ashish\\appdata\\local\\pip\\cache\\wheels\\9c\\38\\4d\\94d8ee8305c298fac942cae0ae1fc676951489095ed8241960\\simpy-2.3.1-py3-none-any.whl\n",
      "Installing collected packages: simpy\n",
      "  Attempting uninstall: simpy\n",
      "    Found existing installation: simpy 4.0.1\n",
      "    Uninstalling simpy-4.0.1:\n",
      "      Successfully uninstalled simpy-4.0.1\n",
      "Successfully installed simpy-2.3.1\n",
      "Note: you may need to restart the kernel to use updated packages.\n"
     ]
    }
   ],
   "source": [
    "pip install simpy==2.3.1"
   ]
  },
  {
   "cell_type": "code",
   "execution_count": 2,
   "metadata": {},
   "outputs": [],
   "source": [
    "from SimPy.Simulation import *\n",
    "from random import *\n",
    "import time"
   ]
  },
  {
   "cell_type": "markdown",
   "metadata": {},
   "source": [
    "##### Simulation allows synchronizing simulation time and real (wallclock) time. This capability can be used to implement e.g. interactive game applications or to demonstrate a model’s execution in real time."
   ]
  },
  {
   "cell_type": "code",
   "execution_count": 3,
   "metadata": {},
   "outputs": [],
   "source": [
    "class Launcher(Process):\n",
    "    def launch(self):\n",
    "        while True:\n",
    "            print(\"Launch at %2.2f; wallclock: %2.2f\"%(now(),time.process_time()-startTime))\n",
    "            yield hold,self,uniform(1,maxFlightTime)\n",
    "            print(\"Vikas Out at %2.2f; wallclock: %2.2f\"%(now(),time.process_time()-startTime))"
   ]
  },
  {
   "cell_type": "code",
   "execution_count": 4,
   "metadata": {},
   "outputs": [],
   "source": [
    "def model():\n",
    "    initialize()\n",
    "    for i in range(nrLaunchers):\n",
    "        lau = Launcher()\n",
    "        activate(lau,lau.launch())\n",
    "    simulate(until=20)"
   ]
  },
  {
   "cell_type": "code",
   "execution_count": 5,
   "metadata": {},
   "outputs": [],
   "source": [
    "## Experiment data    \n",
    "nrLaunchers = 2\n",
    "maxFlightTime = 5.0 \n",
    "startTime = time.process_time()\n",
    "seed(1234567)"
   ]
  },
  {
   "cell_type": "code",
   "execution_count": 6,
   "metadata": {},
   "outputs": [
    {
     "name": "stdout",
     "output_type": "stream",
     "text": [
      "Launch at 0.00; wallclock: 0.00\n",
      "Launch at 0.00; wallclock: 0.00\n",
      "Vikas Out at 1.94; wallclock: 0.00\n",
      "Launch at 1.94; wallclock: 0.00\n",
      "Vikas Out at 4.85; wallclock: 0.00\n",
      "Launch at 4.85; wallclock: 0.00\n",
      "Vikas Out at 5.27; wallclock: 0.00\n",
      "Launch at 5.27; wallclock: 0.00\n",
      "Vikas Out at 6.76; wallclock: 0.00\n",
      "Launch at 6.76; wallclock: 0.00\n",
      "Vikas Out at 10.14; wallclock: 0.00\n",
      "Launch at 10.14; wallclock: 0.00\n",
      "Vikas Out at 10.21; wallclock: 0.00\n",
      "Launch at 10.21; wallclock: 0.00\n",
      "Vikas Out at 11.43; wallclock: 0.00\n",
      "Launch at 11.43; wallclock: 0.00\n",
      "Vikas Out at 13.34; wallclock: 0.00\n",
      "Launch at 13.34; wallclock: 0.00\n",
      "Vikas Out at 14.85; wallclock: 0.00\n",
      "Launch at 14.85; wallclock: 0.00\n",
      "Vikas Out at 17.48; wallclock: 0.00\n",
      "Launch at 17.48; wallclock: 0.00\n",
      "Vikas Out at 19.15; wallclock: 0.00\n",
      "Launch at 19.15; wallclock: 0.00\n",
      "Vikas Out at 19.18; wallclock: 0.00\n",
      "Launch at 19.18; wallclock: 0.00\n"
     ]
    }
   ],
   "source": [
    "## Start Experiment \n",
    "model()"
   ]
  },
  {
   "cell_type": "code",
   "execution_count": null,
   "metadata": {},
   "outputs": [],
   "source": []
  }
 ],
 "metadata": {
  "kernelspec": {
   "display_name": "Python 3",
   "language": "python",
   "name": "python3"
  },
  "language_info": {
   "codemirror_mode": {
    "name": "ipython",
    "version": 3
   },
   "file_extension": ".py",
   "mimetype": "text/x-python",
   "name": "python",
   "nbconvert_exporter": "python",
   "pygments_lexer": "ipython3",
   "version": "3.8.3"
  }
 },
 "nbformat": 4,
 "nbformat_minor": 4
}
