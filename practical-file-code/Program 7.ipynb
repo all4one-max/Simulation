{
 "cells": [
  {
   "cell_type": "markdown",
   "metadata": {},
   "source": [
    "### Implement inferences and output monitoring "
   ]
  },
  {
   "cell_type": "markdown",
   "metadata": {},
   "source": [
    "Inference :- Simulation-based inference (SBI) is a class of methods that infer the input parameters and unobservable latent variables in a simulator from observational data.\n",
    "\n",
    "Monitoring :- This section provides information to monitor the system state during simulation in Production System Simulation."
   ]
  },
  {
   "cell_type": "markdown",
   "metadata": {},
   "source": [
    "#### Event tracing\n",
    "\n",
    "In order to debug or visualize a simulation,we want to trace when events are created, triggered and processed.we also want to trace which process created an event and which processes waited for an event.\n",
    "\n",
    "The two most interesting functions for these use-cases are Environment.step(), where all events get processed, and Environment.schedule(), where all events get scheduled and inserted into SimPy’s event queue.\n"
   ]
  },
  {
   "cell_type": "code",
   "execution_count": 1,
   "metadata": {},
   "outputs": [],
   "source": [
    "from functools import partial, wraps\n",
    "import simpy"
   ]
  },
  {
   "cell_type": "code",
   "execution_count": 2,
   "metadata": {},
   "outputs": [],
   "source": [
    "def trace(env, callback):\n",
    "    \"\"\"\n",
    "        Replace the ``step()`` method of *env* with a tracing function that \n",
    "        calls *callbacks* with an events time, priority, ID and its instance just before it is processed.\n",
    "    \n",
    "    \"\"\"\n",
    "    def get_wrapper(env_step, callback):\n",
    "        \"\"\"\n",
    "            Generate the wrapper for env.step().\n",
    "        \"\"\"\n",
    "        @wraps(env_step)\n",
    "        def tracing_step():\n",
    "            \"\"\"\n",
    "                Call *callback* for the next event if one exist before calling ``env.step()``.\n",
    "            \"\"\"\n",
    "            if len(env._queue):\n",
    "                t, prio, eid, event = env._queue[0]\n",
    "                callback(t, prio, eid, event)\n",
    "            return env_step()\n",
    "        return tracing_step\n",
    "    env.step = get_wrapper(env.step, callback)"
   ]
  },
  {
   "cell_type": "code",
   "execution_count": 3,
   "metadata": {},
   "outputs": [],
   "source": [
    "def monitor(data, t, prio, eid, event):\n",
    "    data.append((t, eid, type(event)))"
   ]
  },
  {
   "cell_type": "code",
   "execution_count": 4,
   "metadata": {},
   "outputs": [],
   "source": [
    "def test_process(env):\n",
    "    yield env.timeout(1)"
   ]
  },
  {
   "cell_type": "code",
   "execution_count": 5,
   "metadata": {},
   "outputs": [],
   "source": [
    "data = [] # Bind *data* as first argument to monitor()\n",
    "monitor = partial(monitor, data)\n",
    "env = simpy.Environment()\n",
    "trace(env, monitor)\n",
    "p = env.process(test_process(env))\n",
    "env.run(until=p)"
   ]
  },
  {
   "cell_type": "code",
   "execution_count": 6,
   "metadata": {},
   "outputs": [
    {
     "name": "stdout",
     "output_type": "stream",
     "text": [
      "(0, 0, <class 'simpy.events.Initialize'>)\n",
      "(1, 1, <class 'simpy.events.Timeout'>)\n",
      "(1, 2, <class 'simpy.events.Process'>)\n"
     ]
    }
   ],
   "source": [
    "for d in data:\n",
    "    print(d)"
   ]
  },
  {
   "cell_type": "code",
   "execution_count": null,
   "metadata": {},
   "outputs": [],
   "source": []
  }
 ],
 "metadata": {
  "kernelspec": {
   "display_name": "Python 3",
   "language": "python",
   "name": "python3"
  },
  "language_info": {
   "codemirror_mode": {
    "name": "ipython",
    "version": 3
   },
   "file_extension": ".py",
   "mimetype": "text/x-python",
   "name": "python",
   "nbconvert_exporter": "python",
   "pygments_lexer": "ipython3",
   "version": "3.8.3"
  }
 },
 "nbformat": 4,
 "nbformat_minor": 4
}
